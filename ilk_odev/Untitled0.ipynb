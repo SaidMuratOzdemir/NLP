{
 "nbformat": 4,
 "nbformat_minor": 0,
 "metadata": {
  "colab": {
   "provenance": []
  },
  "kernelspec": {
   "name": "python3",
   "display_name": "Python 3 (ipykernel)",
   "language": "python"
  },
  "language_info": {
   "name": "python"
  }
 },
 "cells": [
  {
   "cell_type": "code",
   "source": [
    "abbr = 'NLP'\n",
    "full_text = 'Natural Language Processing'\n",
    "\n",
    "print(f\"{abbr} stands for {full_text}\")"
   ],
   "metadata": {
    "colab": {
     "base_uri": "https://localhost:8080/"
    },
    "id": "yyXpDZxsvEBV",
    "outputId": "fd553418-a697-427c-f467-13465ba57306",
    "ExecuteTime": {
     "end_time": "2025-09-30T09:02:21.295904Z",
     "start_time": "2025-09-30T09:02:21.292732Z"
    }
   },
   "outputs": [
    {
     "name": "stdout",
     "output_type": "stream",
     "text": [
      "NLP stands for Natural Language Processing\n"
     ]
    }
   ],
   "execution_count": 1
  },
  {
   "cell_type": "code",
   "metadata": {
    "id": "0ea2b8b7",
    "ExecuteTime": {
     "end_time": "2025-09-30T09:02:22.996230Z",
     "start_time": "2025-09-30T09:02:22.993933Z"
    }
   },
   "source": [
    "with open(\"contacts.txt\", \"w\") as f:\n",
    "    f.write(\"First_Name Last_Name, Title, Extension, Email\")"
   ],
   "outputs": [],
   "execution_count": 2
  },
  {
   "cell_type": "code",
   "source": [
    "with open(\"contacts.txt\", \"r\") as f:\n",
    "    fields = f.read(),\n",
    "\n",
    "print(fields)"
   ],
   "metadata": {
    "colab": {
     "base_uri": "https://localhost:8080/"
    },
    "id": "1-KupQYxvERW",
    "outputId": "c15213d2-a433-4702-ab3d-16f4cbb6fe7b",
    "ExecuteTime": {
     "end_time": "2025-09-30T09:02:24.534761Z",
     "start_time": "2025-09-30T09:02:24.532340Z"
    }
   },
   "outputs": [
    {
     "name": "stdout",
     "output_type": "stream",
     "text": [
      "('First_Name Last_Name, Title, Extension, Email',)\n"
     ]
    }
   ],
   "execution_count": 3
  },
  {
   "cell_type": "code",
   "source": [
    "import PyPDF2\n",
    "\n",
    "with open(\"Business_Proposal.pdf\", \"rb\") as pdf_file:\n",
    "    page_two_text = PyPDF2.PdfReader(pdf_file).pages[1].extract_text()\n",
    "\n",
    "print(page_two_text)\n"
   ],
   "metadata": {
    "colab": {
     "base_uri": "https://localhost:8080/"
    },
    "id": "NtvUhu13vEUZ",
    "outputId": "9b46beb6-fcd5-4c16-d0a0-82f86513bd8a",
    "ExecuteTime": {
     "end_time": "2025-09-30T09:02:26.769875Z",
     "start_time": "2025-09-30T09:02:26.736451Z"
    }
   },
   "outputs": [
    {
     "name": "stdout",
     "output_type": "stream",
     "text": [
      "AUTHORS:  \n",
      "Amy Baker, Finance Chair, x345, abaker@ourcompany.com  \n",
      "Chris Donaldson, Accounting Dir., x621, cdonaldson@ourcompany.com  \n",
      "Erin Freeman, Sr. VP, x879, efreeman@ourcompany.com  \n"
     ]
    }
   ],
   "execution_count": 4
  },
  {
   "cell_type": "code",
   "source": [
    "clean_text = page_two_text.replace(\"AUTHORS:\", \"\").strip()\n",
    "\n",
    "with open(\"contacts.txt\", \"a\") as f:\n",
    "    f.write(\"\\n\" + clean_text)\n",
    "\n",
    "with open(\"contacts.txt\", \"r\") as f:\n",
    "    print(f.read())"
   ],
   "metadata": {
    "colab": {
     "base_uri": "https://localhost:8080/"
    },
    "id": "1h4ukAAivEXk",
    "outputId": "b8a6e575-57c1-40d8-e17a-f8b85626bf5f",
    "ExecuteTime": {
     "end_time": "2025-09-30T09:02:27.961058Z",
     "start_time": "2025-09-30T09:02:27.958094Z"
    }
   },
   "outputs": [
    {
     "name": "stdout",
     "output_type": "stream",
     "text": [
      "First_Name Last_Name, Title, Extension, Email\n",
      "Amy Baker, Finance Chair, x345, abaker@ourcompany.com  \n",
      "Chris Donaldson, Accounting Dir., x621, cdonaldson@ourcompany.com  \n",
      "Erin Freeman, Sr. VP, x879, efreeman@ourcompany.com\n"
     ]
    }
   ],
   "execution_count": 5
  },
  {
   "cell_type": "code",
   "source": [
    "import re\n",
    "\n",
    "emails = re.findall(r\"[A-Za-z0-9._%+-]+@[A-Za-z0-9.-]+\\.[A-Za-z]{2,}\", page_two_text)\n",
    "print(emails)"
   ],
   "metadata": {
    "colab": {
     "base_uri": "https://localhost:8080/"
    },
    "id": "_qOJxKpOzPQ7",
    "outputId": "8f0df3e1-8d26-45fa-d4e4-5a1f4c193f28",
    "ExecuteTime": {
     "end_time": "2025-09-30T09:02:29.217920Z",
     "start_time": "2025-09-30T09:02:29.215298Z"
    }
   },
   "outputs": [
    {
     "name": "stdout",
     "output_type": "stream",
     "text": [
      "['abaker@ourcompany.com', 'cdonaldson@ourcompany.com', 'efreeman@ourcompany.com']\n"
     ]
    }
   ],
   "execution_count": 6
  },
  {
   "metadata": {},
   "cell_type": "code",
   "outputs": [],
   "execution_count": null,
   "source": ""
  }
 ]
}
